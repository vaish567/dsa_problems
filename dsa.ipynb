{
 "cells": [
  {
   "cell_type": "code",
   "execution_count": 9,
   "id": "fbb2896b-85cc-4bdc-8963-1a4b02a3a56d",
   "metadata": {},
   "outputs": [],
   "source": [
    "#Drop constants - O(n)\n",
    "def print_items(n):\n",
    "    for i in range(n):\n",
    "        print(i)\n",
    "\n",
    "    for j in range(n):\n",
    "        print(j)"
   ]
  },
  {
   "cell_type": "code",
   "execution_count": 4,
   "id": "233c4443-7423-4e9a-b4f7-699601268776",
   "metadata": {},
   "outputs": [
    {
     "name": "stdout",
     "output_type": "stream",
     "text": [
      "0\n",
      "1\n",
      "2\n",
      "3\n",
      "4\n",
      "5\n",
      "6\n",
      "7\n",
      "8\n",
      "9\n",
      "0\n",
      "1\n",
      "2\n",
      "3\n",
      "4\n",
      "5\n",
      "6\n",
      "7\n",
      "8\n",
      "9\n"
     ]
    }
   ],
   "source": [
    "print_items(10)"
   ]
  },
  {
   "cell_type": "code",
   "execution_count": 8,
   "id": "a41cf995-d25f-49ce-b367-e99f9694208c",
   "metadata": {},
   "outputs": [],
   "source": [
    "def print_items(n):\n",
    "    for i in range(n):\n",
    "        for j in range(n):\n",
    "            print(i,j)\n",
    "#Big O : O(n^2)\n",
    "# those are nested for loops"
   ]
  },
  {
   "cell_type": "code",
   "execution_count": 7,
   "id": "ed459e8a-9ceb-414e-877a-153e5eaa9edc",
   "metadata": {},
   "outputs": [
    {
     "name": "stdout",
     "output_type": "stream",
     "text": [
      "0 0\n",
      "0 1\n",
      "0 2\n",
      "0 3\n",
      "0 4\n",
      "0 5\n",
      "0 6\n",
      "0 7\n",
      "0 8\n",
      "0 9\n",
      "1 0\n",
      "1 1\n",
      "1 2\n",
      "1 3\n",
      "1 4\n",
      "1 5\n",
      "1 6\n",
      "1 7\n",
      "1 8\n",
      "1 9\n",
      "2 0\n",
      "2 1\n",
      "2 2\n",
      "2 3\n",
      "2 4\n",
      "2 5\n",
      "2 6\n",
      "2 7\n",
      "2 8\n",
      "2 9\n",
      "3 0\n",
      "3 1\n",
      "3 2\n",
      "3 3\n",
      "3 4\n",
      "3 5\n",
      "3 6\n",
      "3 7\n",
      "3 8\n",
      "3 9\n",
      "4 0\n",
      "4 1\n",
      "4 2\n",
      "4 3\n",
      "4 4\n",
      "4 5\n",
      "4 6\n",
      "4 7\n",
      "4 8\n",
      "4 9\n",
      "5 0\n",
      "5 1\n",
      "5 2\n",
      "5 3\n",
      "5 4\n",
      "5 5\n",
      "5 6\n",
      "5 7\n",
      "5 8\n",
      "5 9\n",
      "6 0\n",
      "6 1\n",
      "6 2\n",
      "6 3\n",
      "6 4\n",
      "6 5\n",
      "6 6\n",
      "6 7\n",
      "6 8\n",
      "6 9\n",
      "7 0\n",
      "7 1\n",
      "7 2\n",
      "7 3\n",
      "7 4\n",
      "7 5\n",
      "7 6\n",
      "7 7\n",
      "7 8\n",
      "7 9\n",
      "8 0\n",
      "8 1\n",
      "8 2\n",
      "8 3\n",
      "8 4\n",
      "8 5\n",
      "8 6\n",
      "8 7\n",
      "8 8\n",
      "8 9\n",
      "9 0\n",
      "9 1\n",
      "9 2\n",
      "9 3\n",
      "9 4\n",
      "9 5\n",
      "9 6\n",
      "9 7\n",
      "9 8\n",
      "9 9\n"
     ]
    }
   ],
   "source": [
    "print_items(10)"
   ]
  },
  {
   "cell_type": "code",
   "execution_count": 10,
   "id": "aa89401a-cfda-4322-8f08-3dfd68be70f9",
   "metadata": {},
   "outputs": [
    {
     "name": "stdout",
     "output_type": "stream",
     "text": [
      "0 0\n",
      "0 1\n",
      "0 2\n",
      "0 3\n",
      "0 4\n",
      "0 5\n",
      "0 6\n",
      "0 7\n",
      "0 8\n",
      "0 9\n",
      "1 0\n",
      "1 1\n",
      "1 2\n",
      "1 3\n",
      "1 4\n",
      "1 5\n",
      "1 6\n",
      "1 7\n",
      "1 8\n",
      "1 9\n",
      "2 0\n",
      "2 1\n",
      "2 2\n",
      "2 3\n",
      "2 4\n",
      "2 5\n",
      "2 6\n",
      "2 7\n",
      "2 8\n",
      "2 9\n",
      "3 0\n",
      "3 1\n",
      "3 2\n",
      "3 3\n",
      "3 4\n",
      "3 5\n",
      "3 6\n",
      "3 7\n",
      "3 8\n",
      "3 9\n",
      "4 0\n",
      "4 1\n",
      "4 2\n",
      "4 3\n",
      "4 4\n",
      "4 5\n",
      "4 6\n",
      "4 7\n",
      "4 8\n",
      "4 9\n",
      "5 0\n",
      "5 1\n",
      "5 2\n",
      "5 3\n",
      "5 4\n",
      "5 5\n",
      "5 6\n",
      "5 7\n",
      "5 8\n",
      "5 9\n",
      "6 0\n",
      "6 1\n",
      "6 2\n",
      "6 3\n",
      "6 4\n",
      "6 5\n",
      "6 6\n",
      "6 7\n",
      "6 8\n",
      "6 9\n",
      "7 0\n",
      "7 1\n",
      "7 2\n",
      "7 3\n",
      "7 4\n",
      "7 5\n",
      "7 6\n",
      "7 7\n",
      "7 8\n",
      "7 9\n",
      "8 0\n",
      "8 1\n",
      "8 2\n",
      "8 3\n",
      "8 4\n",
      "8 5\n",
      "8 6\n",
      "8 7\n",
      "8 8\n",
      "8 9\n",
      "9 0\n",
      "9 1\n",
      "9 2\n",
      "9 3\n",
      "9 4\n",
      "9 5\n",
      "9 6\n",
      "9 7\n",
      "9 8\n",
      "9 9\n",
      "0\n",
      "1\n",
      "2\n",
      "3\n",
      "4\n",
      "5\n",
      "6\n",
      "7\n",
      "8\n",
      "9\n"
     ]
    }
   ],
   "source": [
    "#Big O - Drop Non-Dominants\n",
    "def print_items(n):\n",
    "    for i in range(n):\n",
    "        for j in range(n):\n",
    "            print(i,j)\n",
    "\n",
    "    for k in range(n):\n",
    "        print(k)\n",
    "\n",
    "print_items(10)"
   ]
  },
  {
   "cell_type": "code",
   "execution_count": 8,
   "id": "6b3b823a-bca5-48ee-8155-004d848ac060",
   "metadata": {},
   "outputs": [
    {
     "name": "stdout",
     "output_type": "stream",
     "text": [
      "0 0\n",
      "0 1\n",
      "0 2\n",
      "0 3\n",
      "0 4\n",
      "1 0\n",
      "1 1\n",
      "1 2\n",
      "1 3\n",
      "1 4\n",
      "2 0\n",
      "2 1\n",
      "2 2\n",
      "2 3\n",
      "2 4\n",
      "3 0\n",
      "3 1\n",
      "3 2\n",
      "3 3\n",
      "3 4\n",
      "4 0\n",
      "4 1\n",
      "4 2\n",
      "4 3\n",
      "4 4\n",
      "5 0\n",
      "5 1\n",
      "5 2\n",
      "5 3\n",
      "5 4\n",
      "6 0\n",
      "6 1\n",
      "6 2\n",
      "6 3\n",
      "6 4\n",
      "7 0\n",
      "7 1\n",
      "7 2\n",
      "7 3\n",
      "7 4\n",
      "8 0\n",
      "8 1\n",
      "8 2\n",
      "8 3\n",
      "8 4\n",
      "9 0\n",
      "9 1\n",
      "9 2\n",
      "9 3\n",
      "9 4\n"
     ]
    }
   ],
   "source": [
    "def print_items(a, b):\n",
    "    for i in range(a):\n",
    "        for j in range(b):\n",
    "            print(i, j)\n",
    "\n",
    "print_items(10, 5)"
   ]
  },
  {
   "cell_type": "code",
   "execution_count": 11,
   "id": "9b29dc8b-ae3f-4d64-ae1c-cc26abd6ac6f",
   "metadata": {},
   "outputs": [
    {
     "name": "stdout",
     "output_type": "stream",
     "text": [
      "Print 1st color green\n",
      "Print 2nd color blue\n",
      "Print 1st color is now yellow\n",
      "Print 2nd color blue\n"
     ]
    }
   ],
   "source": [
    "##Classes\n",
    "\n",
    "class Cookie:\n",
    "    def __init__(self, color):\n",
    "        self.color = color\n",
    "\n",
    "    def get_color(self):\n",
    "        return self.color\n",
    "\n",
    "    def set_color(self, color):\n",
    "        self.color = color\n",
    "\n",
    "cookie_one = Cookie('green')\n",
    "cookie_two = Cookie('blue')\n",
    "\n",
    "print('Print 1st color', cookie_one.get_color())\n",
    "print('Print 2nd color', cookie_two.get_color())\n",
    "\n",
    "\n",
    "cookie_one.set_color('yellow')\n",
    "print('Print 1st color is now', cookie_one.get_color())\n",
    "print('Print 2nd color', cookie_two.get_color())"
   ]
  },
  {
   "cell_type": "code",
   "execution_count": 12,
   "id": "2957d3dd-203c-4af3-a68d-6351af6a18a2",
   "metadata": {},
   "outputs": [
    {
     "name": "stdout",
     "output_type": "stream",
     "text": [
      "Before num2 value is updated:\n",
      "num1 = 11\n",
      "num2 = 11\n"
     ]
    }
   ],
   "source": [
    "##Pointers\n",
    "\n",
    "num1 = 11\n",
    "\n",
    "num2 = num1\n",
    "\n",
    "print(\"Before num2 value is updated:\")\n",
    "print(\"num1 =\", num1)\n",
    "print(\"num2 =\", num2)"
   ]
  },
  {
   "cell_type": "code",
   "execution_count": 13,
   "id": "42e55247-da2d-4d30-a0b4-207b45da1633",
   "metadata": {},
   "outputs": [
    {
     "name": "stdout",
     "output_type": "stream",
     "text": [
      "\n",
      "num1 points to: 4346031528\n",
      "num2 points to: 4346031528\n"
     ]
    }
   ],
   "source": [
    "print(\"\\nnum1 points to:\", id(num1))\n",
    "print(\"num2 points to:\", id(num2))"
   ]
  },
  {
   "cell_type": "code",
   "execution_count": 17,
   "id": "44584f2c-6d3b-4aa4-8259-c3b6acd89561",
   "metadata": {},
   "outputs": [
    {
     "name": "stdout",
     "output_type": "stream",
     "text": [
      "After num2 value is updated:\n",
      "num1 = 11\n",
      "num2 = 22\n"
     ]
    }
   ],
   "source": [
    "num2 = 22\n",
    "\n",
    "\n",
    "print(\"After num2 value is updated:\")\n",
    "print(\"num1 =\", num1)\n",
    "print(\"num2 =\", num2)"
   ]
  },
  {
   "cell_type": "code",
   "execution_count": 18,
   "id": "613c5f79-e9a8-4ac3-90b9-fe53074a8ea9",
   "metadata": {},
   "outputs": [
    {
     "name": "stdout",
     "output_type": "stream",
     "text": [
      "\n",
      "num1 points to: 4346031528\n",
      "num2 points to: 4346031880\n"
     ]
    }
   ],
   "source": [
    "print(\"\\nnum1 points to:\", id(num1))\n",
    "print(\"num2 points to:\", id(num2))"
   ]
  },
  {
   "cell_type": "code",
   "execution_count": 19,
   "id": "f4320ea5-ca65-42c8-b50b-98cefdb2035e",
   "metadata": {},
   "outputs": [
    {
     "name": "stdout",
     "output_type": "stream",
     "text": [
      "Before num2 value is updated:\n",
      "num1 = {'value': 1}\n",
      "num2 = {'value': 1}\n"
     ]
    }
   ],
   "source": [
    "dist1 = {\n",
    "    'value' : 1\n",
    "}\n",
    "\n",
    "dist2 = dist1\n",
    "\n",
    "print(\"Before num2 value is updated:\")\n",
    "print(\"num1 =\", dist1)\n",
    "print(\"num2 =\", dist2)"
   ]
  },
  {
   "cell_type": "code",
   "execution_count": 20,
   "id": "cef5d980-3154-4790-ac8a-eae5394e37ac",
   "metadata": {},
   "outputs": [
    {
     "name": "stdout",
     "output_type": "stream",
     "text": [
      "\n",
      "dict1 points to: 4423655616\n",
      "dict2 points to: 4423655616\n"
     ]
    }
   ],
   "source": [
    "print(\"\\ndict1 points to:\", id(dist1))\n",
    "print(\"dict2 points to:\", id(dist2))"
   ]
  },
  {
   "cell_type": "code",
   "execution_count": 22,
   "id": "1b55ff07-a247-41b0-9645-6bfc1b24e5a0",
   "metadata": {},
   "outputs": [],
   "source": [
    "dist2['value'] = 22"
   ]
  },
  {
   "cell_type": "code",
   "execution_count": 23,
   "id": "25683f5a-ca5e-4f09-b491-cc5e620687db",
   "metadata": {},
   "outputs": [
    {
     "name": "stdout",
     "output_type": "stream",
     "text": [
      "\n",
      "dict1 points to: 4423655616\n",
      "dict2 points to: 4423655616\n"
     ]
    }
   ],
   "source": [
    "print(\"\\ndict1 points to:\", id(dist1))\n",
    "print(\"dict2 points to:\", id(dist2))"
   ]
  },
  {
   "cell_type": "code",
   "execution_count": 24,
   "id": "d46b13a8-af7b-4b73-b6da-096ec2b77bc0",
   "metadata": {},
   "outputs": [
    {
     "name": "stdout",
     "output_type": "stream",
     "text": [
      "After dist2 value is updated:\n",
      "dist1 = {'value': 22}\n",
      "dist2 = {'value': 22}\n"
     ]
    }
   ],
   "source": [
    "print(\"After dist2 value is updated:\")\n",
    "print(\"dist1 =\", dist1)\n",
    "print(\"dist2 =\", dist2)"
   ]
  },
  {
   "cell_type": "code",
   "execution_count": 2,
   "id": "06533bf9-92d2-4c1f-b52e-63ff4652878d",
   "metadata": {},
   "outputs": [
    {
     "name": "stdout",
     "output_type": "stream",
     "text": [
      "4\n"
     ]
    }
   ],
   "source": [
    "head = {\n",
    "    \"value\" : 11,\n",
    "    \"next\" : {\n",
    "        \"value\" : 7,\n",
    "    \"next\" : {\n",
    "        \"value\" : 4,\n",
    "    \"next\" : {\n",
    "        \"value\" : 3,\n",
    "    \"next\" : None\n",
    "    }\n",
    "    }\n",
    "    } \n",
    "}\n",
    "\n",
    "print(head['next']['next']['value'])"
   ]
  },
  {
   "cell_type": "code",
   "execution_count": 5,
   "id": "689760ce-2971-4f2e-842d-907de2d3bd3e",
   "metadata": {},
   "outputs": [
    {
     "name": "stdout",
     "output_type": "stream",
     "text": [
      "4\n"
     ]
    }
   ],
   "source": [
    "## Linked List : Constructor\n",
    "class Node:\n",
    "    def __init__(self,value):\n",
    "        self.value = value\n",
    "        self.next = None\n",
    "\n",
    "\n",
    "class LinkedList:\n",
    "    def __init__(self,value):\n",
    "        new_node = Node(value)\n",
    "        self.head = new_node\n",
    "        self.tail = new_node\n",
    "        self.length = 1\n",
    "\n",
    "    \n",
    "my_linked_list = LinkedList(4)\n",
    "print(my_linked_list.head.value)"
   ]
  },
  {
   "cell_type": "code",
   "execution_count": null,
   "id": "6c6c4b82-e198-4a62-863d-065c68fee638",
   "metadata": {},
   "outputs": [],
   "source": []
  }
 ],
 "metadata": {
  "kernelspec": {
   "display_name": "Python 3 (ipykernel)",
   "language": "python",
   "name": "python3"
  },
  "language_info": {
   "codemirror_mode": {
    "name": "ipython",
    "version": 3
   },
   "file_extension": ".py",
   "mimetype": "text/x-python",
   "name": "python",
   "nbconvert_exporter": "python",
   "pygments_lexer": "ipython3",
   "version": "3.11.7"
  }
 },
 "nbformat": 4,
 "nbformat_minor": 5
}
