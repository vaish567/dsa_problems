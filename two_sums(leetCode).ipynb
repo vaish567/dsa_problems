{
 "cells": [
  {
   "cell_type": "code",
   "execution_count": 10,
   "id": "4d0be4bc-e4e4-42a6-9652-a25b6c237112",
   "metadata": {},
   "outputs": [
    {
     "name": "stdout",
     "output_type": "stream",
     "text": [
      "[0, 1]\n"
     ]
    }
   ],
   "source": [
    "def twoSum(nums, target):\n",
    "    # Create an empty dictionary to store the number and its index\n",
    "    num_to_index = {}\n",
    "\n",
    "    # Loop through the list of numbers\n",
    "    for i, num in enumerate(nums):\n",
    "        # Calculate the number that would complement the current number to reach the target\n",
    "        complement = target - num\n",
    "\n",
    "        # If the complement is already in the dictionary, that means we have found the two numbers\n",
    "        if complement in num_to_index:\n",
    "            # Return the indices of the complement and the current number\n",
    "            return [num_to_index[complement], i]\n",
    "\n",
    "        # Otherwise, store the current number and its index in the dictionary\n",
    "        num_to_index[num] = i\n",
    "\n",
    "# Call the function and print the result\n",
    "result = twoSum([2, 7, 11, 15], 9)\n",
    "print(result)  # Output: [0, 1]"
   ]
  },
  {
   "cell_type": "code",
   "execution_count": null,
   "id": "c9b454a9-907e-4c8c-9659-79c72ed06475",
   "metadata": {},
   "outputs": [],
   "source": []
  },
  {
   "cell_type": "code",
   "execution_count": null,
   "id": "45997e09-b210-463f-93ed-22e238c178f8",
   "metadata": {},
   "outputs": [],
   "source": []
  }
 ],
 "metadata": {
  "kernelspec": {
   "display_name": "Python 3 (ipykernel)",
   "language": "python",
   "name": "python3"
  },
  "language_info": {
   "codemirror_mode": {
    "name": "ipython",
    "version": 3
   },
   "file_extension": ".py",
   "mimetype": "text/x-python",
   "name": "python",
   "nbconvert_exporter": "python",
   "pygments_lexer": "ipython3",
   "version": "3.11.7"
  }
 },
 "nbformat": 4,
 "nbformat_minor": 5
}
